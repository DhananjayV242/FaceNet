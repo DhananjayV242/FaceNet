{
 "cells": [
  {
   "cell_type": "markdown",
   "metadata": {},
   "source": [
    "# Prototypical Networks\n",
    "\n",
    "This notebook implements the Prototypical Network in TensorFlow. Inspiration has been drawn from the authors implementation in PyTorch, and the constructs for the model definition are mostly similar, since Torch and TF share some similarity in that section. \n",
    "\n",
    "Training however, is different as TF does not support the `loss.backward()` style of backprop. So the conventional, gritty gradient tape method has been used. \n",
    "\n",
    "Things to note: Do not train with default configs until you are sure you can wait for periods of half-hour or longer. Reduce `epoch_size` if you wish to make things go along faster. \n",
    "\n",
    "Alternatively, for testing, you could just load weights that have been saved previously. The last saved checkpoint will be loaded and results will be shown. "
   ]
  },
  {
   "cell_type": "code",
   "execution_count": 1,
   "metadata": {},
   "outputs": [
    {
     "name": "stdout",
     "output_type": "stream",
     "text": [
      "[PhysicalDevice(name='/physical_device:GPU:0', device_type='GPU')]\n"
     ]
    }
   ],
   "source": [
    "import numpy as np\n",
    "import matplotlib.pyplot as plt\n",
    "from scipy import ndimage\n",
    "import multiprocessing as mp\n",
    "import os\n",
    "import cv2\n",
    "import time\n",
    "\n",
    "import tqdm\n",
    "from tqdm.notebook import trange\n",
    "\n",
    "import tensorflow as tf\n",
    "\n",
    "print(tf.config.list_physical_devices('GPU'))"
   ]
  },
  {
   "cell_type": "markdown",
   "metadata": {},
   "source": [
    "## Data Extraction\n",
    "\n",
    "This part deals with the extraction of data from the Omniglot dataset of alphabets. \n",
    "\n",
    "The Omniglot dataset contains 1,623 different handwritten characters from 50 different alphabets. Each of the 1623 characters was drawn online via Amazon's Mechanical Turk by 20 different people (so 20 examples per character). It is split into a background set of 30 alphabets and an evaluation set of 20 alphabets. We will use the background set for training and the evaluation set for testing.\n",
    "\n",
    "The function `read_alphabets()` was taken from Cyprien Nielly's implementation (GitHub) , as the original code I had written took too much time to extract and organise the dataset. Cyprien's function uses the multiprocessing module to accelerate the extration of the data. \n"
   ]
  },
  {
   "cell_type": "code",
   "execution_count": 2,
   "metadata": {},
   "outputs": [
    {
     "name": "stdout",
     "output_type": "stream",
     "text": [
      "replace images_background/Alphabet_of_the_Magi/character01/0709_01.png? [y]es, [n]o, [A]ll, [N]one, [r]ename: ^C\n",
      "replace images_evaluation/Angelic/character01/0965_01.png? [y]es, [n]o, [A]ll, [N]one, [r]ename: ^C\n"
     ]
    }
   ],
   "source": [
    "# DO NOT RUN IF DATASET HAS ALREADY BEEN EXTRACTED\n",
    "\n",
    "!unzip -qq images_background.zip\n",
    "!unzip -qq images_evaluation.zip"
   ]
  },
  {
   "cell_type": "code",
   "execution_count": 2,
   "metadata": {},
   "outputs": [],
   "source": [
    "def read_alphabets(alphabet_directory_path, alphabet_directory_name):\n",
    "    \"\"\"\n",
    "    Reads all the characters from a given alphabet_directory\n",
    "    \"\"\"\n",
    "    datax = []\n",
    "    datay = []\n",
    "    characters = os.listdir(alphabet_directory_path)\n",
    "    for character in characters:\n",
    "        images = os.listdir(alphabet_directory_path + character + '/')\n",
    "        for img in images:\n",
    "            image = cv2.resize(\n",
    "                cv2.imread(alphabet_directory_path + character + '/' + img),\n",
    "                (28,28)\n",
    "                )\n",
    "            #rotations of image\n",
    "            rotated_90 = ndimage.rotate(image, 90)\n",
    "            rotated_180 = ndimage.rotate(image, 180)\n",
    "            rotated_270 = ndimage.rotate(image, 270)\n",
    "            datax.extend((image, rotated_90, rotated_180, rotated_270))\n",
    "            datay.extend((\n",
    "                alphabet_directory_name + '_' + character + '_0',\n",
    "                alphabet_directory_name + '_' + character + '_90',\n",
    "                alphabet_directory_name + '_' + character + '_180',\n",
    "                alphabet_directory_name + '_' + character + '_270'\n",
    "            ))\n",
    "    return np.array(datax), np.array(datay)\n",
    "\n",
    "def read_images(base_directory):\n",
    "    \"\"\"\n",
    "    Reads all the alphabets from the base_directory\n",
    "    Uses multithreading to decrease the reading time drastically\n",
    "    \"\"\"\n",
    "    datax = None\n",
    "    datay = None\n",
    "    pool = mp.Pool(mp.cpu_count())\n",
    "    results = [pool.apply(read_alphabets,\n",
    "                          args=(\n",
    "                              base_directory + '/' + directory + '/', directory, \n",
    "                              )) for directory in os.listdir(base_directory)]\n",
    "    pool.close()\n",
    "    for result in results:\n",
    "        if datax is None:\n",
    "            datax = result[0]\n",
    "            datay = result[1]\n",
    "        else:\n",
    "            datax = np.vstack([datax, result[0]])\n",
    "            datay = np.concatenate([datay, result[1]])\n",
    "    return datax, datay"
   ]
  },
  {
   "cell_type": "code",
   "execution_count": 3,
   "metadata": {},
   "outputs": [
    {
     "name": "stdout",
     "output_type": "stream",
     "text": [
      "CPU times: user 409 ms, sys: 518 ms, total: 927 ms\n",
      "Wall time: 34.7 s\n"
     ]
    }
   ],
   "source": [
    "%%time \n",
    "trainx, trainy = read_images('images_background')"
   ]
  },
  {
   "cell_type": "code",
   "execution_count": 4,
   "metadata": {},
   "outputs": [
    {
     "name": "stdout",
     "output_type": "stream",
     "text": [
      "CPU times: user 200 ms, sys: 306 ms, total: 506 ms\n",
      "Wall time: 28.4 s\n"
     ]
    }
   ],
   "source": [
    "%%time \n",
    "testx, testy = read_images('images_evaluation')"
   ]
  },
  {
   "cell_type": "code",
   "execution_count": 5,
   "metadata": {},
   "outputs": [
    {
     "data": {
      "text/plain": [
       "((77120, 28, 28, 3), (77120,), (52720, 28, 28, 3), (52720,))"
      ]
     },
     "execution_count": 5,
     "metadata": {},
     "output_type": "execute_result"
    }
   ],
   "source": [
    "trainx.shape, trainy.shape, testx.shape, testy.shape"
   ]
  },
  {
   "cell_type": "markdown",
   "metadata": {},
   "source": [
    "## Creating samples and training \n",
    "\n",
    "This section is to create a random sample of a support set and query set from the data set. Now, the assumption made here is that `n_query` number of query images will be extracted per class. However, a more general structure of the model would be to provide a completely random set of query images. This constraint has been applied to ease out loss calculation, and training. "
   ]
  },
  {
   "cell_type": "code",
   "execution_count": 6,
   "metadata": {},
   "outputs": [],
   "source": [
    "def extract_sample(n_way, n_support, n_query, datax, datay):\n",
    "    \"\"\"\n",
    "  Picks random sample of size n_support+n_querry, for n_way classes\n",
    "  Args:\n",
    "      n_way (int): number of classes in a classification task\n",
    "      n_support (int): number of labeled examples per class in the support set\n",
    "      n_query (int): number of labeled examples per class in the query set\n",
    "      datax (np.array): dataset of images\n",
    "      datay (np.array): dataset of labels\n",
    "  Returns:\n",
    "      (dict) of:\n",
    "        (Tensor): sample of images. Size (n_way, n_support+n_query, (dim))\n",
    "        (int): n_way\n",
    "        (int): n_support\n",
    "        (int): n_query\n",
    "  \"\"\"\n",
    "    sample = []\n",
    "    K = np.random.choice(np.unique(datay), n_way, replace=False)\n",
    "    for cls in K:\n",
    "        datax_cls = datax[datay==cls] \n",
    "        perm = np.random.permutation(datax_cls)\n",
    "        sample_cls = perm[:(n_support+n_query)]\n",
    "        sample.append(sample_cls)                   # images extracted\n",
    "    \n",
    "    sample = np.array(sample)   # convert to np format\n",
    "    sample = tf.image.convert_image_dtype(sample, dtype=tf.float32)\n",
    "    \n",
    "    return {'images':sample, 'n_way': n_way, 'n_support': n_support, 'n_query': n_query} \n",
    "    "
   ]
  },
  {
   "cell_type": "code",
   "execution_count": 7,
   "metadata": {},
   "outputs": [],
   "source": [
    "def display_sample(sample):\n",
    "    \n",
    "    images = sample['images']\n",
    "    n_way = sample['n_way']\n",
    "    im_per_way = images.shape[1]\n",
    "    \n",
    "    plt.figure(figsize=(16,7))\n",
    "    for i in range(n_way*im_per_way):\n",
    "        row = i//im_per_way\n",
    "        offset = i-row*im_per_way\n",
    "        \n",
    "        plt.subplot(n_way, im_per_way, i+1)\n",
    "        plt.imshow(images[row, offset])\n",
    "    "
   ]
  },
  {
   "cell_type": "markdown",
   "metadata": {},
   "source": [
    "Looking at example of a sample set. "
   ]
  },
  {
   "cell_type": "code",
   "execution_count": 9,
   "metadata": {},
   "outputs": [
    {
     "name": "stdout",
     "output_type": "stream",
     "text": [
      "Shape of the extracted sample is :  (8, 10, 28, 28, 3)\n"
     ]
    }
   ],
   "source": [
    "sample = extract_sample(8,5,5, trainx, trainy)\n",
    "print(\"Shape of the extracted sample is : \",sample['images'].shape)"
   ]
  },
  {
   "cell_type": "code",
   "execution_count": 10,
   "metadata": {},
   "outputs": [
    {
     "data": {
      "image/png": "[encoded data removed]",
      "text/plain": [
       "<Figure size 1152x504 with 80 Axes>"
      ]
     },
     "metadata": {
      "needs_background": "light"
     },
     "output_type": "display_data"
    }
   ],
   "source": [
    "display_sample(sample)"
   ]
  },
  {
   "cell_type": "markdown",
   "metadata": {},
   "source": [
    "## Building the model\n",
    "\n",
    "The model is basically a CNN. Instead of using the flattened outputs as a measure of probability, we use the output as a vector that desribes the features of the image. Calculating L2 distance with the prototype of the class, we obtain the distance. \n",
    "\n",
    "The log softmax is taken as a loss metric. "
   ]
  },
  {
   "cell_type": "code",
   "execution_count": 11,
   "metadata": {},
   "outputs": [],
   "source": [
    "def convolution_block( n_filters):\n",
    "    return tf.keras.Sequential([\n",
    "        tf.keras.layers.Conv2D( filters = n_filters, kernel_size = 3, padding = 'same'), \n",
    "        tf.keras.layers.BatchNormalization(-1), \n",
    "        tf.keras.layers.ReLU(), \n",
    "        tf.keras.layers.MaxPool2D((2,2))\n",
    "    ])"
   ]
  },
  {
   "cell_type": "code",
   "execution_count": 12,
   "metadata": {},
   "outputs": [],
   "source": [
    "class ProtoNet(tf.keras.Model):\n",
    "    \n",
    "    def __init__(self, n_filters, output_dim):\n",
    "        '''\n",
    "        Args:\n",
    "        n_filters = number of filters in convolutional layers\n",
    "        output_dim = dimensions of output \n",
    "        \n",
    "        '''\n",
    "        super(ProtoNet, self).__init__()\n",
    "        \n",
    "        self.encoder = tf.keras.Sequential([\n",
    "            convolution_block(n_filters), \n",
    "            convolution_block(n_filters), \n",
    "            convolution_block(n_filters), \n",
    "            convolution_block(output_dim), \n",
    "            tf.keras.layers.Flatten()\n",
    "        ])\n",
    "        \n",
    "        \n",
    "    def call(self, sample):\n",
    "        \n",
    "        '''\n",
    "        Args: \n",
    "        \n",
    "        sample: object returned by extract_sample()\n",
    "                {'images': images, 'n_way':n_way, 'n_support': n_support, 'n_query': n_query }\n",
    "                \n",
    "        Returns: \n",
    "        \n",
    "        vector of dimensions output_dim '''\n",
    "        \n",
    "        # The input is a 5-dimensional tensor, and the Sequential block demands an input of 4_D dimensionality. \n",
    "        # Therefore, we flatten along axis 0, keeping all the images of the same class together. \n",
    "        \n",
    "        images = sample['images']\n",
    "        self.n_way = sample['n_way']\n",
    "        self.n_support = sample['n_support']\n",
    "        self.n_query = sample['n_query']\n",
    "        \n",
    "        im_support = images[:,:self.n_support]    # Seperating the support set from query set\n",
    "        im_query = images[:, self.n_support:]\n",
    "        \n",
    "        x = tf.concat([\n",
    "        tf.reshape(im_support, (self.n_way*self.n_support, *images.shape[2:])), \n",
    "        tf.reshape(im_query, (self.n_way*self.n_query, *images.shape[2:]))],\n",
    "        axis = 0)                            # Data is now in 4-D form\n",
    "        \n",
    "        embedding = self.encoder(x)\n",
    "        return embedding\n",
    "    \n",
    "    def euclidian_dist(self, x , y):\n",
    "    \n",
    "        ''' This calculates the euclidian distance between two 2-D vectors. \n",
    "        The first dimension need not be equal for the vectors, but the second has to be \n",
    "    \n",
    "        Args:\n",
    "        x: dimension (k, len) vector (considered as query)\n",
    "        y: dimension (n, len) vector (considered as prototype) \n",
    "        Returns: \n",
    "        distances: vector of (k,n) dimension, representing distance of each query from each prototype'''\n",
    "    \n",
    "        k, x_len = x.shape\n",
    "        n, y_len = y.shape\n",
    "    \n",
    "        assert x_len == y_len, \"Length of query and prototype embeddings dont match\"\n",
    "    \n",
    "        x = tf.tile(tf.expand_dims(x, 1), (1,n,1) )\n",
    "        y = tf.tile(tf.expand_dims(y, 0), (k,1,1) )\n",
    "    \n",
    "        distances = tf.reduce_sum(tf.math.pow(x-y,2), axis=2)\n",
    "    \n",
    "        return distances\n",
    "    \n",
    "    def forward_loss(self, sample):\n",
    "        \n",
    "        out = self(sample)\n",
    "        \n",
    "        indices = tf.range(0,n_way,dtype='int64') \n",
    "        indices = tf.reshape(indices, (self.n_way,1))\n",
    "        indices = tf.tile(indices, (1,self.n_query))\n",
    "        \n",
    "        embed_size = out.shape[-1]\n",
    "        \n",
    "        support = tf.reshape(out[:self.n_way*self.n_support], (self.n_way, self.n_support, embed_size))\n",
    "        proto = tf.math.reduce_mean(support, 1)\n",
    "        query = out[self.n_way*self.n_support:]\n",
    "        \n",
    "        distances = self.euclidian_dist(query, proto)\n",
    "        \n",
    "        #computing log softmax over distances\n",
    "        \n",
    "        log_prob = tf.nn.log_softmax(-distances, axis=-1)\n",
    "        log_prob = tf.reshape(log_prob, (n_way, n_query, -1))\n",
    "        \n",
    "        loss = tf.math.reduce_mean(tf.gather(-log_prob, indices, batch_dims=2))\n",
    "        y_hat = tf.math.argmax(log_prob, axis=2)\n",
    "        accuracy = tf.math.reduce_mean(tf.cast(tf.math.equal(y_hat, indices), dtype=tf.float32))\n",
    "        \n",
    "        return loss, {'loss': loss.numpy(), \n",
    "                'accuracy': accuracy.numpy(), \n",
    "                'y_hat': y_hat.numpy()}\n",
    "    \n",
    "    def save_model(self,path):\n",
    "        self.save_weights(path)\n",
    "        \n",
    "    def load(self,path):\n",
    "        self.encoder(tf.zeros([1,28,28,3]))\n",
    "        self.load_weights(path)\n"
   ]
  },
  {
   "cell_type": "markdown",
   "metadata": {},
   "source": [
    "## Training the model\n",
    "\n",
    "Training the model is done with the same procedure we expect to test it with. Conventionally, it would be possible to just call the model.fit along with the dataset, but since out training procedure is unique to theis network, we need to define the training function from scratch. \n",
    "\n",
    "An N-way, K-shot network will be fed with K images each of N classes as a support set, accompanied by a certain amount of query images. For ease of training, I have set the query set to include X images each from every class (this is not required). The ProtoNet builds the prototype of the model with its weights and then compares the distance of each query to each class, predicting the class as the one which gives the lowest distance. This constitutes one training episode. \n",
    "\n",
    "We keep `epoch_size` number of training episodes per epoch, and as usual, run for necessary number of epochs\n",
    "\n",
    "Note: With the current configuration, the training takes a total of 40 minutes on my computer (16 GB RAM, 4 GB GPU). Each epoch takes 20 mins to train. It is highly recommended that for faster training times, AWS services are used. At the time of writing this code, I'm looking into free AWS compute services that I can sign up for. \n"
   ]
  },
  {
   "cell_type": "code",
   "execution_count": 13,
   "metadata": {},
   "outputs": [],
   "source": [
    "def train (model, init_lr, train_x, train_y, n_way, n_support, n_query, epochs, epoch_size):\n",
    "    \n",
    "    \"\"\"\n",
    "  Trains the protonet\n",
    "  Args:\n",
    "      model\n",
    "      optimizer\n",
    "      train_x (np.array): images of training set\n",
    "      train_y(np.array): labels of training set\n",
    "      n_way (int): number of classes in a classification task\n",
    "      n_support (int): number of labeled examples per class in the support set\n",
    "      n_query (int): number of labeled examples per class in the query set\n",
    "      epochs (int): max epochs to train on\n",
    "      epoch_size (int): episodes per epoch\n",
    "  \"\"\"\n",
    "    \n",
    "    lr  = init_lr\n",
    "    optimizer = tf.keras.optimizers.Adam(lr)\n",
    "    epoch = 0\n",
    "    \n",
    "    while epoch < epochs  :\n",
    "        r_loss = 0.0\n",
    "        r_acc = 0.0\n",
    "        \n",
    "        for episode in trange(epoch_size, desc=\"Epoch {:d} train\".format(epoch+1)):\n",
    "            sample = extract_sample(n_way, n_support, n_query, train_x, train_y)\n",
    "            \n",
    "            with tf.GradientTape() as tape:\n",
    "                loss, out = model.forward_loss(sample)\n",
    "        \n",
    "            grads = tape.gradient(loss, model.trainable_variables)\n",
    "            \n",
    "            optimizer.apply_gradients(zip(grads, model.trainable_variables))\n",
    "            r_loss += out['loss']\n",
    "            r_acc += out['accuracy']\n",
    "            \n",
    "        epoch_loss = r_loss / epoch_size\n",
    "        epoch_acc = r_acc / epoch_size\n",
    "        print('Epoch {:d} -- Loss: {:.4f} Acc: {:.4f}'.format(epoch+1,epoch_loss, epoch_acc))\n",
    "        epoch += 1\n",
    "        lr = lr/2\n",
    "        \n",
    "       "
   ]
  },
  {
   "cell_type": "code",
   "execution_count": 14,
   "metadata": {
    "scrolled": true
   },
   "outputs": [
    {
     "data": {
      "application/vnd.jupyter.widget-view+json": {
       "model_id": "6afb387a919a4c779c4e257c522938af",
       "version_major": 2,
       "version_minor": 0
      },
      "text/plain": [
       "HBox(children=(HTML(value='Epoch 1 train'), FloatProgress(value=0.0, max=2000.0), HTML(value='')))"
      ]
     },
     "metadata": {},
     "output_type": "display_data"
    },
    {
     "name": "stdout",
     "output_type": "stream",
     "text": [
      "\n"
     ]
    },
    {
     "ename": "KeyboardInterrupt",
     "evalue": "",
     "output_type": "error",
     "traceback": [
      "\u001b[0;31m---------------------------------------------------------------------------\u001b[0m",
      "\u001b[0;31mKeyboardInterrupt\u001b[0m                         Traceback (most recent call last)",
      "\u001b[0;32m<timed exec>\u001b[0m in \u001b[0;36m<module>\u001b[0;34m\u001b[0m\n",
      "\u001b[0;32m<ipython-input-13-654da7c22185>\u001b[0m in \u001b[0;36mtrain\u001b[0;34m(model, init_lr, train_x, train_y, n_way, n_support, n_query, epochs, epoch_size)\u001b[0m\n\u001b[1;32m     24\u001b[0m \u001b[0;34m\u001b[0m\u001b[0m\n\u001b[1;32m     25\u001b[0m         \u001b[0;32mfor\u001b[0m \u001b[0mepisode\u001b[0m \u001b[0;32min\u001b[0m \u001b[0mtrange\u001b[0m\u001b[0;34m(\u001b[0m\u001b[0mepoch_size\u001b[0m\u001b[0;34m,\u001b[0m \u001b[0mdesc\u001b[0m\u001b[0;34m=\u001b[0m\u001b[0;34m\"Epoch {:d} train\"\u001b[0m\u001b[0;34m.\u001b[0m\u001b[0mformat\u001b[0m\u001b[0;34m(\u001b[0m\u001b[0mepoch\u001b[0m\u001b[0;34m+\u001b[0m\u001b[0;36m1\u001b[0m\u001b[0;34m)\u001b[0m\u001b[0;34m)\u001b[0m\u001b[0;34m:\u001b[0m\u001b[0;34m\u001b[0m\u001b[0;34m\u001b[0m\u001b[0m\n\u001b[0;32m---> 26\u001b[0;31m             \u001b[0msample\u001b[0m \u001b[0;34m=\u001b[0m \u001b[0mextract_sample\u001b[0m\u001b[0;34m(\u001b[0m\u001b[0mn_way\u001b[0m\u001b[0;34m,\u001b[0m \u001b[0mn_support\u001b[0m\u001b[0;34m,\u001b[0m \u001b[0mn_query\u001b[0m\u001b[0;34m,\u001b[0m \u001b[0mtrain_x\u001b[0m\u001b[0;34m,\u001b[0m \u001b[0mtrain_y\u001b[0m\u001b[0;34m)\u001b[0m\u001b[0;34m\u001b[0m\u001b[0;34m\u001b[0m\u001b[0m\n\u001b[0m\u001b[1;32m     27\u001b[0m \u001b[0;34m\u001b[0m\u001b[0m\n\u001b[1;32m     28\u001b[0m             \u001b[0;32mwith\u001b[0m \u001b[0mtf\u001b[0m\u001b[0;34m.\u001b[0m\u001b[0mGradientTape\u001b[0m\u001b[0;34m(\u001b[0m\u001b[0;34m)\u001b[0m \u001b[0;32mas\u001b[0m \u001b[0mtape\u001b[0m\u001b[0;34m:\u001b[0m\u001b[0;34m\u001b[0m\u001b[0;34m\u001b[0m\u001b[0m\n",
      "\u001b[0;32m<ipython-input-6-0cbbb443b291>\u001b[0m in \u001b[0;36mextract_sample\u001b[0;34m(n_way, n_support, n_query, datax, datay)\u001b[0m\n\u001b[1;32m     24\u001b[0m \u001b[0;34m\u001b[0m\u001b[0m\n\u001b[1;32m     25\u001b[0m     \u001b[0msample\u001b[0m \u001b[0;34m=\u001b[0m \u001b[0mnp\u001b[0m\u001b[0;34m.\u001b[0m\u001b[0marray\u001b[0m\u001b[0;34m(\u001b[0m\u001b[0msample\u001b[0m\u001b[0;34m)\u001b[0m   \u001b[0;31m# convert to np format\u001b[0m\u001b[0;34m\u001b[0m\u001b[0;34m\u001b[0m\u001b[0m\n\u001b[0;32m---> 26\u001b[0;31m     \u001b[0msample\u001b[0m \u001b[0;34m=\u001b[0m \u001b[0mtf\u001b[0m\u001b[0;34m.\u001b[0m\u001b[0mimage\u001b[0m\u001b[0;34m.\u001b[0m\u001b[0mconvert_image_dtype\u001b[0m\u001b[0;34m(\u001b[0m\u001b[0msample\u001b[0m\u001b[0;34m,\u001b[0m \u001b[0mdtype\u001b[0m\u001b[0;34m=\u001b[0m\u001b[0mtf\u001b[0m\u001b[0;34m.\u001b[0m\u001b[0mfloat32\u001b[0m\u001b[0;34m)\u001b[0m\u001b[0;34m\u001b[0m\u001b[0;34m\u001b[0m\u001b[0m\n\u001b[0m\u001b[1;32m     27\u001b[0m \u001b[0;34m\u001b[0m\u001b[0m\n\u001b[1;32m     28\u001b[0m     \u001b[0;32mreturn\u001b[0m \u001b[0;34m{\u001b[0m\u001b[0;34m'images'\u001b[0m\u001b[0;34m:\u001b[0m\u001b[0msample\u001b[0m\u001b[0;34m,\u001b[0m \u001b[0;34m'n_way'\u001b[0m\u001b[0;34m:\u001b[0m \u001b[0mn_way\u001b[0m\u001b[0;34m,\u001b[0m \u001b[0;34m'n_support'\u001b[0m\u001b[0;34m:\u001b[0m \u001b[0mn_support\u001b[0m\u001b[0;34m,\u001b[0m \u001b[0;34m'n_query'\u001b[0m\u001b[0;34m:\u001b[0m \u001b[0mn_query\u001b[0m\u001b[0;34m}\u001b[0m\u001b[0;34m\u001b[0m\u001b[0;34m\u001b[0m\u001b[0m\n",
      "\u001b[0;32m~/anaconda3/lib/python3.7/site-packages/tensorflow/python/ops/image_ops_impl.py\u001b[0m in \u001b[0;36mconvert_image_dtype\u001b[0;34m(image, dtype, saturate, name)\u001b[0m\n\u001b[1;32m   2050\u001b[0m       \u001b[0;32mif\u001b[0m \u001b[0mimage\u001b[0m\u001b[0;34m.\u001b[0m\u001b[0mdtype\u001b[0m\u001b[0;34m.\u001b[0m\u001b[0mis_integer\u001b[0m\u001b[0;34m:\u001b[0m\u001b[0;34m\u001b[0m\u001b[0;34m\u001b[0m\u001b[0m\n\u001b[1;32m   2051\u001b[0m         \u001b[0;31m# Converting to float: first cast, then scale. No saturation possible.\u001b[0m\u001b[0;34m\u001b[0m\u001b[0;34m\u001b[0m\u001b[0;34m\u001b[0m\u001b[0m\n\u001b[0;32m-> 2052\u001b[0;31m         \u001b[0mcast\u001b[0m \u001b[0;34m=\u001b[0m \u001b[0mmath_ops\u001b[0m\u001b[0;34m.\u001b[0m\u001b[0mcast\u001b[0m\u001b[0;34m(\u001b[0m\u001b[0mimage\u001b[0m\u001b[0;34m,\u001b[0m \u001b[0mdtype\u001b[0m\u001b[0;34m)\u001b[0m\u001b[0;34m\u001b[0m\u001b[0;34m\u001b[0m\u001b[0m\n\u001b[0m\u001b[1;32m   2053\u001b[0m         \u001b[0mscale\u001b[0m \u001b[0;34m=\u001b[0m \u001b[0;36m1.\u001b[0m \u001b[0;34m/\u001b[0m \u001b[0mimage\u001b[0m\u001b[0;34m.\u001b[0m\u001b[0mdtype\u001b[0m\u001b[0;34m.\u001b[0m\u001b[0mmax\u001b[0m\u001b[0;34m\u001b[0m\u001b[0;34m\u001b[0m\u001b[0m\n\u001b[1;32m   2054\u001b[0m         \u001b[0;32mreturn\u001b[0m \u001b[0mmath_ops\u001b[0m\u001b[0;34m.\u001b[0m\u001b[0mmultiply\u001b[0m\u001b[0;34m(\u001b[0m\u001b[0mcast\u001b[0m\u001b[0;34m,\u001b[0m \u001b[0mscale\u001b[0m\u001b[0;34m,\u001b[0m \u001b[0mname\u001b[0m\u001b[0;34m=\u001b[0m\u001b[0mname\u001b[0m\u001b[0;34m)\u001b[0m\u001b[0;34m\u001b[0m\u001b[0;34m\u001b[0m\u001b[0m\n",
      "\u001b[0;32m~/anaconda3/lib/python3.7/site-packages/tensorflow/python/util/dispatch.py\u001b[0m in \u001b[0;36mwrapper\u001b[0;34m(*args, **kwargs)\u001b[0m\n\u001b[1;32m    178\u001b[0m     \u001b[0;34m\"\"\"Call target, and fall back on dispatchers if there is a TypeError.\"\"\"\u001b[0m\u001b[0;34m\u001b[0m\u001b[0;34m\u001b[0m\u001b[0m\n\u001b[1;32m    179\u001b[0m     \u001b[0;32mtry\u001b[0m\u001b[0;34m:\u001b[0m\u001b[0;34m\u001b[0m\u001b[0;34m\u001b[0m\u001b[0m\n\u001b[0;32m--> 180\u001b[0;31m       \u001b[0;32mreturn\u001b[0m \u001b[0mtarget\u001b[0m\u001b[0;34m(\u001b[0m\u001b[0;34m*\u001b[0m\u001b[0margs\u001b[0m\u001b[0;34m,\u001b[0m \u001b[0;34m**\u001b[0m\u001b[0mkwargs\u001b[0m\u001b[0;34m)\u001b[0m\u001b[0;34m\u001b[0m\u001b[0;34m\u001b[0m\u001b[0m\n\u001b[0m\u001b[1;32m    181\u001b[0m     \u001b[0;32mexcept\u001b[0m \u001b[0;34m(\u001b[0m\u001b[0mTypeError\u001b[0m\u001b[0;34m,\u001b[0m \u001b[0mValueError\u001b[0m\u001b[0;34m)\u001b[0m\u001b[0;34m:\u001b[0m\u001b[0;34m\u001b[0m\u001b[0;34m\u001b[0m\u001b[0m\n\u001b[1;32m    182\u001b[0m       \u001b[0;31m# Note: convert_to_eager_tensor currently raises a ValueError, not a\u001b[0m\u001b[0;34m\u001b[0m\u001b[0;34m\u001b[0m\u001b[0;34m\u001b[0m\u001b[0m\n",
      "\u001b[0;32m~/anaconda3/lib/python3.7/site-packages/tensorflow/python/ops/math_ops.py\u001b[0m in \u001b[0;36mcast\u001b[0;34m(x, dtype, name)\u001b[0m\n\u001b[1;32m    787\u001b[0m       \u001b[0mx\u001b[0m \u001b[0;34m=\u001b[0m \u001b[0mops\u001b[0m\u001b[0;34m.\u001b[0m\u001b[0mconvert_to_tensor\u001b[0m\u001b[0;34m(\u001b[0m\u001b[0mx\u001b[0m\u001b[0;34m,\u001b[0m \u001b[0mname\u001b[0m\u001b[0;34m=\u001b[0m\u001b[0;34m\"x\"\u001b[0m\u001b[0;34m)\u001b[0m\u001b[0;34m\u001b[0m\u001b[0;34m\u001b[0m\u001b[0m\n\u001b[1;32m    788\u001b[0m       \u001b[0;32mif\u001b[0m \u001b[0mx\u001b[0m\u001b[0;34m.\u001b[0m\u001b[0mdtype\u001b[0m\u001b[0;34m.\u001b[0m\u001b[0mbase_dtype\u001b[0m \u001b[0;34m!=\u001b[0m \u001b[0mbase_type\u001b[0m\u001b[0;34m:\u001b[0m\u001b[0;34m\u001b[0m\u001b[0;34m\u001b[0m\u001b[0m\n\u001b[0;32m--> 789\u001b[0;31m         \u001b[0mx\u001b[0m \u001b[0;34m=\u001b[0m \u001b[0mgen_math_ops\u001b[0m\u001b[0;34m.\u001b[0m\u001b[0mcast\u001b[0m\u001b[0;34m(\u001b[0m\u001b[0mx\u001b[0m\u001b[0;34m,\u001b[0m \u001b[0mbase_type\u001b[0m\u001b[0;34m,\u001b[0m \u001b[0mname\u001b[0m\u001b[0;34m=\u001b[0m\u001b[0mname\u001b[0m\u001b[0;34m)\u001b[0m\u001b[0;34m\u001b[0m\u001b[0;34m\u001b[0m\u001b[0m\n\u001b[0m\u001b[1;32m    790\u001b[0m     \u001b[0;32mif\u001b[0m \u001b[0mx\u001b[0m\u001b[0;34m.\u001b[0m\u001b[0mdtype\u001b[0m\u001b[0;34m.\u001b[0m\u001b[0mis_complex\u001b[0m \u001b[0;32mand\u001b[0m \u001b[0mbase_type\u001b[0m\u001b[0;34m.\u001b[0m\u001b[0mis_floating\u001b[0m\u001b[0;34m:\u001b[0m\u001b[0;34m\u001b[0m\u001b[0;34m\u001b[0m\u001b[0m\n\u001b[1;32m    791\u001b[0m       \u001b[0mlogging\u001b[0m\u001b[0;34m.\u001b[0m\u001b[0mwarn\u001b[0m\u001b[0;34m(\u001b[0m\u001b[0;34m\"Casting complex to real discards imaginary part.\"\u001b[0m\u001b[0;34m)\u001b[0m\u001b[0;34m\u001b[0m\u001b[0;34m\u001b[0m\u001b[0m\n",
      "\u001b[0;32m~/anaconda3/lib/python3.7/site-packages/tensorflow/python/ops/gen_math_ops.py\u001b[0m in \u001b[0;36mcast\u001b[0;34m(x, DstT, Truncate, name)\u001b[0m\n\u001b[1;32m   1960\u001b[0m       _result = pywrap_tfe.TFE_Py_FastPathExecute(\n\u001b[1;32m   1961\u001b[0m         \u001b[0m_ctx\u001b[0m\u001b[0;34m.\u001b[0m\u001b[0m_context_handle\u001b[0m\u001b[0;34m,\u001b[0m \u001b[0mtld\u001b[0m\u001b[0;34m.\u001b[0m\u001b[0mdevice_name\u001b[0m\u001b[0;34m,\u001b[0m \u001b[0;34m\"Cast\"\u001b[0m\u001b[0;34m,\u001b[0m \u001b[0mname\u001b[0m\u001b[0;34m,\u001b[0m \u001b[0mtld\u001b[0m\u001b[0;34m.\u001b[0m\u001b[0mop_callbacks\u001b[0m\u001b[0;34m,\u001b[0m\u001b[0;34m\u001b[0m\u001b[0;34m\u001b[0m\u001b[0m\n\u001b[0;32m-> 1962\u001b[0;31m         x, \"DstT\", DstT, \"Truncate\", Truncate)\n\u001b[0m\u001b[1;32m   1963\u001b[0m       \u001b[0;32mreturn\u001b[0m \u001b[0m_result\u001b[0m\u001b[0;34m\u001b[0m\u001b[0;34m\u001b[0m\u001b[0m\n\u001b[1;32m   1964\u001b[0m     \u001b[0;32mexcept\u001b[0m \u001b[0m_core\u001b[0m\u001b[0;34m.\u001b[0m\u001b[0m_FallbackException\u001b[0m\u001b[0;34m:\u001b[0m\u001b[0;34m\u001b[0m\u001b[0;34m\u001b[0m\u001b[0m\n",
      "\u001b[0;31mKeyboardInterrupt\u001b[0m: "
     ]
    }
   ],
   "source": [
    "%%time\n",
    "\n",
    "model = ProtoNet(64,64)\n",
    "checkpoint_file = 'ProtoNet'+ time.strftime(\"%d%m_%I%M\")+'.weights'\n",
    "\n",
    "n_way = 60\n",
    "n_support = 5\n",
    "n_query = 5\n",
    "\n",
    "train_x = trainx\n",
    "train_y = trainy\n",
    "\n",
    "max_epoch = 2\n",
    "epoch_size = 2000\n",
    "\n",
    "train(model, 0.001, train_x, train_y, n_way, n_support, n_query, max_epoch, epoch_size)\n",
    "\n",
    "model.save(f'model_weights/{checkpoint_file}')\n"
   ]
  },
  {
   "cell_type": "markdown",
   "metadata": {},
   "source": [
    "## Testing the model \n",
    "\n",
    "Testing the model is done the same way we trained the model, by feeding it a support set, query set and calculating necessary metrics. \n",
    " \n",
    "Testing the model has been done by using the last saved checkpoint so as to avoid retraining the model all the time. "
   ]
  },
  {
   "cell_type": "code",
   "execution_count": 15,
   "metadata": {},
   "outputs": [],
   "source": [
    "def test(model, test_x, test_y, n_way, n_support, n_query, test_episode):\n",
    "    \"\"\"\n",
    "  Tests the protonet\n",
    "  Args:\n",
    "      model: trained model\n",
    "      test_x (np.array): images of testing set\n",
    "      test_y (np.array): labels of testing set\n",
    "      n_way (int): number of classes in a classification task\n",
    "      n_support (int): number of labeled examples per class in the support set\n",
    "      n_query (int): number of labeled examples per class in the query set\n",
    "      test_episode (int): number of episodes to test on \n",
    "      \"\"\"\n",
    "    r_loss = 0.0\n",
    "    r_acc = 0.0\n",
    "    \n",
    "    for episode in trange(test_episode):\n",
    "        sample = extract_sample(n_way, n_support, n_query, test_x, test_y)\n",
    "        loss, output = model.forward_loss(sample)\n",
    "        r_loss += output['loss']\n",
    "        r_acc += output['accuracy']\n",
    "    avg_loss = r_loss / test_episode\n",
    "    avg_acc = r_acc / test_episode\n",
    "    print('Test results -- Loss: {:.4f} Acc: {:.4f}'.format(avg_loss, avg_acc))\n",
    "    \n",
    "    "
   ]
  },
  {
   "cell_type": "code",
   "execution_count": 30,
   "metadata": {},
   "outputs": [
    {
     "data": {
      "application/vnd.jupyter.widget-view+json": {
       "model_id": "c8b102235b9241278db65eb68ae55160",
       "version_major": 2,
       "version_minor": 0
      },
      "text/plain": [
       "HBox(children=(FloatProgress(value=0.0, max=1000.0), HTML(value='')))"
      ]
     },
     "metadata": {},
     "output_type": "display_data"
    },
    {
     "name": "stdout",
     "output_type": "stream",
     "text": [
      "\n",
      "Test results -- Loss: 0.0132 Acc: 0.9967\n"
     ]
    }
   ],
   "source": [
    "n_way = 5\n",
    "n_support = 5\n",
    "n_query = 5\n",
    "\n",
    "test_x = testx\n",
    "test_y = testy\n",
    "\n",
    "test_episode = 1000\n",
    "\n",
    "my_model = ProtoNet(64,64)\n",
    "sample = extract_sample(n_way, n_support, n_query, test_x, test_y)\n",
    "\n",
    "my_model.load(tf.train.latest_checkpoint('model_weights'))\n",
    "\n",
    "test(my_model, test_x, test_y, n_way, n_support, n_query, test_episode)\n",
    "\n",
    "display_sample(sample)\n",
    "out = my_model.forward_loss(sample)\n",
    "print(\"The model's prediction is: \",out['y_hat'] )"
   ]
  },
  {
   "cell_type": "markdown",
   "metadata": {},
   "source": [
    "As expected, the model is following loss patterns that seem to mimic the ones given in the paper. Since the paper trains for 5 epochs and that would mean a training time of 2 hours, which I am reluctant to undertake on my PC. As soon as I understand how to use AWS compute services, further training of the model can be performed on the cloud. "
   ]
  },
  {
   "cell_type": "markdown",
   "metadata": {},
   "source": [
    "## Further steps\n",
    "\n",
    "Further steps to be taken are the following:\n",
    "\n",
    "1. Generalising the support set and query set, and modifying the model accordingly. The final objective is to create a ProtoNet that accepts one query image and 3 support images for the face. \n",
    "\n",
    "2. The current method of training will require images to be provided of the 'not-authorized' category. This is generally not done in most face detection systems, and therefore, something needs to be thought of. \n",
    "\n",
    "3. Training the ProtoNet on the CelebA database. This step will definitely need to be undertaken on AWS VM, since the input features will be significantly larger than the Omniglot dataset\n",
    "\n",
    "4. Possible accellerations within code will need to be thought of. Since TFLite will probably compile the model class, it might be best to code the class as efficiently as possible. "
   ]
  },
  {
   "cell_type": "code",
   "execution_count": 8,
   "metadata": {},
   "outputs": [
    {
     "data": {
      "text/plain": [
       "<tf.Tensor: shape=(1, 2, 2, 1), dtype=float32, numpy=\n",
       "array([[[[0.945794  ],\n",
       "         [0.5393721 ]],\n",
       "\n",
       "        [[0.9488752 ],\n",
       "         [0.38950348]]]], dtype=float32)>"
      ]
     },
     "execution_count": 8,
     "metadata": {},
     "output_type": "execute_result"
    }
   ],
   "source": [
    "x = tf.random.uniform((1,4,3,1))\n",
    "max_pool_2d = tf.keras.layers.MaxPooling2D(pool_size=(2, 2),padding='same')\n",
    "\n",
    "max_pool_2d(x)"
   ]
  },
  {
   "cell_type": "code",
   "execution_count": null,
   "metadata": {},
   "outputs": [],
   "source": []
  }
 ],
 "metadata": {
  "kernelspec": {
   "display_name": "Python 3",
   "language": "python",
   "name": "python3"
  },
  "language_info": {
   "codemirror_mode": {
    "name": "ipython",
    "version": 3
   },
   "file_extension": ".py",
   "mimetype": "text/x-python",
   "name": "python",
   "nbconvert_exporter": "python",
   "pygments_lexer": "ipython3",
   "version": "3.7.3"
  }
 },
 "nbformat": 4,
 "nbformat_minor": 4
}
