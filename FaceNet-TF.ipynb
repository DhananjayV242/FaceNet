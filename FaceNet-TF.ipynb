{
 "cells": [
  {
   "cell_type": "markdown",
   "metadata": {},
   "source": [
    "# Face detection ProtoNet\n",
    "\n",
    "This section onward, the aim is to modify the existing ProtoNet to act as a face detection network. The main idea is to push it somewhat toward the construction of a Siamese Network, in the sense that there is a reference embedding compared to a singular query, but without the construction of the twin network. \n",
    "\n",
    "\n",
    "The new ProtoNet will work as follows: Create a prototype of the face by using the average of the embedding of the support set. The embeddding of the query is then compared to the prototype and then if similarity is above a certain threshold, the face is classified into the same class. \n",
    "\n",
    "Some expected differences in the model are: \n",
    "\n",
    "1. There will be only one support class. Therefore, the model wll default into a K-shot binary classifier\n",
    "\n",
    "2. The binary classifier behaviour will entail using a sigmoid function instead of softmax, which might cause unexpected things while training the model. \n"
   ]
  },
  {
   "cell_type": "code",
   "execution_count": 1,
   "metadata": {},
   "outputs": [
    {
     "name": "stdout",
     "output_type": "stream",
     "text": [
      "[PhysicalDevice(name='/physical_device:GPU:0', device_type='GPU')]\n"
     ]
    }
   ],
   "source": [
    "import numpy as np\n",
    "import matplotlib.pyplot as plt\n",
    "import multiprocessing as mp\n",
    "import os\n",
    "import cv2\n",
    "import time\n",
    "\n",
    "import tqdm\n",
    "from tqdm.notebook import trange\n",
    "\n",
    "import tensorflow as tf\n",
    "\n",
    "print(tf.config.list_physical_devices('GPU'))"
   ]
  },
  {
   "cell_type": "markdown",
   "metadata": {},
   "source": [
    "## Data extraction\n",
    "\n",
    "This section just deals with drawing the necessary images from the necessary directories. \n",
    "\n",
    "Initially, I had written code within this notebook itself to extract data from the respective directories. However, as I started training the model on more than one dataset, I decided to shift those functions to seperate files, for ease of operability\n"
   ]
  },
  {
   "cell_type": "code",
   "execution_count": 6,
   "metadata": {},
   "outputs": [],
   "source": [
    "import omni_data\n",
    "import lfw_data\n",
    "import yt_data"
   ]
  },
  {
   "cell_type": "markdown",
   "metadata": {},
   "source": [
    "## Data balancing \n",
    "\n",
    "Data balancing in this network is very important since it is imperative that we have a dataset that consists of more or less equal number of positive and negative samples within the data to avoid a skew toward either side that might affect the inference of the model. \n",
    "\n",
    "At this point, I can think of 2 approaches: \n",
    "1. Use a random choice to decide whether the query should be from same class or not, and then correspondingly choose a random images from the available images. \n",
    "\n",
    "2. Create a balanced sample of matching and non-matching support+query image sets from the existing set of images, and then use that dataset for training step. \n",
    "\n",
    "The first one seems easier to implement, but logically, the second one seems like it might get a better result. \n",
    " \n",
    "And also, for the sake of ease and future compilability, we shall explicitly initialise the model with the K, not infer it from the sample.\n",
    " "
   ]
  },
  {
   "cell_type": "code",
   "execution_count": 4,
   "metadata": {},
   "outputs": [],
   "source": [
    "def extract_sample(datax, datay, n_support, n_query = 1):\n",
    "    \n",
    "    cls = np.random.choice(np.unique(datay))\n",
    "    datax_cls = datax[datay==cls]\n",
    "    datax_ncls = datax[datay!=cls] \n",
    "        \n",
    "    perm = np.random.permutation(datax_cls)\n",
    "    support = tf.image.convert_image_dtype(perm[:n_support], dtype=tf.float32)\n",
    "    \n",
    "    k = n_query//2 #k is number of matching samples\n",
    "    m = n_query-k\n",
    "    \n",
    "    k_ind = np.random.randint(datax_cls.shape[0],size = k)\n",
    "    m_ind = np.random.randint(datax_ncls.shape[0],size = m)\n",
    "    \n",
    "    query = np.concatenate((datax_cls[k_ind],datax_ncls[m_ind]), axis = 0)\n",
    "    query = tf.image.convert_image_dtype(query, dtype=tf.float32)\n",
    "    \n",
    "    label = tf.concat([tf.ones((k,1)),tf.zeros((m,1))],0)\n",
    "    \n",
    "    sample = {'support': support,\n",
    "              'query': query,\n",
    "              'label': label}\n",
    "    \n",
    "    return sample"
   ]
  },
  {
   "cell_type": "code",
   "execution_count": 5,
   "metadata": {},
   "outputs": [],
   "source": [
    "def display_sample(sample):\n",
    "    \n",
    "    ns = sample['support'].shape[0]\n",
    "    nq = sample['query'].shape[0]\n",
    "    \n",
    "    for i,img in enumerate(sample['support']):\n",
    "        plt.subplot(1,ns,i+1)\n",
    "        plt.imshow(img)\n",
    "        plt.title(\"Support set\")\n",
    "\n",
    "    plt.show()\n",
    "\n",
    "    for i,img in enumerate(sample['query']):\n",
    "        plt.subplot(nq//3+1,min(3,nq),i+1)\n",
    "        plt.imshow(img)\n",
    "        plt.title(\"Query set\")\n",
    "    plt.show()\n",
    "    "
   ]
  },
  {
   "cell_type": "code",
   "execution_count": 6,
   "metadata": {},
   "outputs": [
    {
     "data": {
      "image/png": "[encoded data removed]",
      "text/plain": [
       "<Figure size 432x288 with 3 Axes>"
      ]
     },
     "metadata": {
      "needs_background": "light"
     },
     "output_type": "display_data"
    },
    {
     "data": {
      "image/png": "[encoded data removed]",
      "text/plain": [
       "<Figure size 432x288 with 6 Axes>"
      ]
     },
     "metadata": {
      "needs_background": "light"
     },
     "output_type": "display_data"
    },
    {
     "name": "stdout",
     "output_type": "stream",
     "text": [
      "Label is : [[1.]\n",
      " [1.]\n",
      " [1.]\n",
      " [0.]\n",
      " [0.]\n",
      " [0.]]\n"
     ]
    }
   ],
   "source": [
    "sample = extract_sample(trainx,trainy,3,6)\n",
    "\n",
    "display_sample(sample)\n",
    "print(\"Label is :\",sample['label'].numpy())\n",
    "\n",
    "#plt.imshow(sample['images'][0][0])"
   ]
  },
  {
   "cell_type": "markdown",
   "metadata": {},
   "source": [
    "## Building the model \n",
    "\n",
    "The model is slightly different as it is a binary classifier now. \n",
    "\n",
    "Further descriptions once the model has actually been built \n"
   ]
  },
  {
   "cell_type": "code",
   "execution_count": 9,
   "metadata": {},
   "outputs": [],
   "source": [
    "def convolution_block( n_filters):\n",
    "    return tf.keras.Sequential([\n",
    "        tf.keras.layers.Conv2D( filters = n_filters, kernel_size = 3, padding = 'same'), \n",
    "        tf.keras.layers.BatchNormalization(-1), \n",
    "        tf.keras.layers.ReLU(), \n",
    "        tf.keras.layers.MaxPool2D((2,2))\n",
    "    ])\n",
    "\n",
    "\n",
    "class FaceNet(tf.keras.Model):\n",
    "    \n",
    "    def __init__(self, k, n_filters, output_dim):\n",
    "        \n",
    "        '''\n",
    "        Args:\n",
    "        k: The number of examples in the support set\n",
    "        n_filters = number of filters in convolutional layers\n",
    "        output_dim = dimensions of output \n",
    "        \n",
    "        '''\n",
    "        super(FaceNet, self).__init__()\n",
    "        \n",
    "        self.k = k\n",
    "        self.encoder = tf.keras.Sequential([\n",
    "            convolution_block(n_filters), \n",
    "            convolution_block(n_filters), \n",
    "            convolution_block(n_filters), \n",
    "            convolution_block(output_dim),\n",
    "            tf.keras.layers.Flatten(),\n",
    "            tf.keras.layers.Dense(output_dim)\n",
    "        ])\n",
    "        \n",
    "        \n",
    "    def encode(self, sample):\n",
    "        \n",
    "        '''\n",
    "        Args: \n",
    "        sample: object returned by extract_sample()\n",
    "                {'support': support set, 'query': query image }\n",
    "        Returns:\n",
    "        embedding of the support set and query images\n",
    "        '''\n",
    "        support = sample['support']\n",
    "        query = sample['query']\n",
    "        x = tf.concat([ support, query], axis =0) # Data is now in 4-D form\n",
    "        embedding = self.encoder(x)\n",
    "        return embedding\n",
    "    \n",
    "    def call(self, sample):\n",
    "        \n",
    "        out = self.encode(sample)\n",
    "        support = out[:self.k]\n",
    "        proto = tf.math.reduce_mean(support, 0, keepdims=True)\n",
    "        query = out[self.k:]\n",
    "        \n",
    "        distances = self.euclidian_dist(query, proto)\n",
    "        probs = tf.nn.sigmoid(-distances+10) \n",
    "        y_hat = tf.cast((probs>0.85), tf.float32)\n",
    "        \n",
    "        return tf.squeeze(y_hat).numpy()\n",
    "    \n",
    "    def euclidian_dist(self, x , y):\n",
    "    \n",
    "        ''' This calculates the euclidian distance between two 2-D vectors. \n",
    "        The first dimension need not be equal for the vectors, but the second has to be \n",
    "    \n",
    "        Args:\n",
    "        x: dimension (k, len) vector (considered as query)\n",
    "        y: dimension (n, len) vector (considered as prototype) \n",
    "        Returns: \n",
    "        distances: vector of (k,n) dimension, representing distance of each query from each prototype'''\n",
    "    \n",
    "        k, x_len = x.shape\n",
    "        n, y_len = y.shape\n",
    "    \n",
    "        assert x_len == y_len, \"Length of query and prototype embeddings dont match\"\n",
    "    \n",
    "        x = tf.tile( x,(1,n) )\n",
    "        y = tf.tile( y,(k,1) )\n",
    "        distances = tf.reduce_sum(tf.math.pow(x-y,2), axis=1, keepdims = True)\n",
    "        return distances\n",
    "    \n",
    "    def forward_loss(self, sample):\n",
    "        \n",
    "        out = self.encode(sample)\n",
    "        support = out[:self.k]\n",
    "        proto = tf.math.reduce_mean(support, 0, keepdims=True)\n",
    "        query = out[self.k:]\n",
    "        \n",
    "        distances = self.euclidian_dist(query, proto)\n",
    "        \n",
    "        # Computing sigmoid, instead of softmax, and adding a bias value to the distance \n",
    "        # as the minimum value of distance that euclidian_dist can give is 0. \n",
    "        \n",
    "        probs = tf.nn.sigmoid(-distances+10)   \n",
    "        bin_loss = tf.keras.losses.binary_crossentropy(sample['label'],probs)\n",
    "        loss = tf.math.reduce_mean(bin_loss)\n",
    "        \n",
    "        # Since this is aimed at a biometric system, I am assuming that it is a match only above 0.85 probability\n",
    "        y_hat = tf.cast((probs>0.85), tf.float32)\n",
    "        accuracy = tf.math.reduce_mean(tf.cast(y_hat==sample['label'], dtype=tf.float32))\n",
    "        \n",
    "        return loss, {'loss': loss.numpy(), \n",
    "                'accuracy': accuracy.numpy()}\n",
    "    \n",
    "    \n",
    "    def save(self,path):\n",
    "        self.save_weights(path)\n",
    "        \n",
    "    def load(self,path):\n",
    "        self.encoder(tf.zeros([1,28,28,3]))\n",
    "        self.load_weights(path)\n"
   ]
  },
  {
   "cell_type": "code",
   "execution_count": 10,
   "metadata": {},
   "outputs": [
    {
     "name": "stdout",
     "output_type": "stream",
     "text": [
      "(5,)\n"
     ]
    },
    {
     "data": {
      "text/plain": [
       "(<tf.Tensor: shape=(), dtype=float32, numpy=5.983979>,\n",
       " {'loss': 5.983979, 'accuracy': 0.4})"
      ]
     },
     "execution_count": 10,
     "metadata": {},
     "output_type": "execute_result"
    }
   ],
   "source": [
    "model = FaceNet(3,64,64)\n",
    "sample = extract_sample(trainx,trainy,3,5)\n",
    "\n",
    "out = model(sample)\n",
    "print(out.shape)\n",
    "proto = tf.math.reduce_mean(out[:3],0,keepdims=True)\n",
    "query = out[3:]\n",
    "\n",
    "model.forward_loss(sample)"
   ]
  },
  {
   "cell_type": "markdown",
   "metadata": {},
   "source": [
    "## Training the model \n",
    "\n"
   ]
  },
  {
   "cell_type": "code",
   "execution_count": 3,
   "metadata": {},
   "outputs": [
    {
     "ename": "NameError",
     "evalue": "name 'trainx_o' is not defined",
     "output_type": "error",
     "traceback": [
      "\u001b[0;31m---------------------------------------------------------------------------\u001b[0m",
      "\u001b[0;31mNameError\u001b[0m                                 Traceback (most recent call last)",
      "\u001b[0;32m<timed exec>\u001b[0m in \u001b[0;36m<module>\u001b[0;34m\u001b[0m\n",
      "\u001b[0;31mNameError\u001b[0m: name 'trainx_o' is not defined"
     ]
    }
   ],
   "source": [
    "%%time \n",
    "\n",
    "trainx, trainy = read_images('images_background')\n",
    "testx, testy = read_images('images_evaluation')\n",
    "\n",
    "print(f\"Training set contains {trainx.shape[0]} images\")\n",
    "print(f\"Testing set contains {testx.shape[0]} images \\n\")"
   ]
  },
  {
   "cell_type": "code",
   "execution_count": 11,
   "metadata": {},
   "outputs": [],
   "source": [
    "def train (model, init_lr, train_x, train_y, n_support, n_query, epochs, epoch_size):\n",
    "    \n",
    "    \"\"\"\n",
    "  Trains the protonet\n",
    "  Args:\n",
    "      model\n",
    "      optimizer\n",
    "      train_x (np.array): images of training set\n",
    "      train_y(np.array): labels of training set\n",
    "      n_way (int): number of classes in a classification task\n",
    "      n_support (int): number of labeled examples per class in the support set\n",
    "      n_query (int): number of labeled examples per class in the query set\n",
    "      epochs (int): max epochs to train on\n",
    "      epoch_size (int): episodes per epoch\n",
    "  \"\"\"\n",
    "    \n",
    "    lr  = init_lr\n",
    "    optimizer = tf.keras.optimizers.Adam(lr)\n",
    "    epoch = 0\n",
    "    \n",
    "    while epoch < epochs  :\n",
    "        r_loss = 0.0\n",
    "        r_acc = 0.0\n",
    "        \n",
    "        for episode in trange(epoch_size, desc=\"Epoch {:d} train\".format(epoch+1)):\n",
    "            sample = extract_sample(train_x, train_y, n_support, n_query)\n",
    "            \n",
    "            with tf.GradientTape() as tape:\n",
    "                loss, out = model.forward_loss(sample)\n",
    "        \n",
    "            grads = tape.gradient(loss, model.trainable_variables)\n",
    "            \n",
    "            optimizer.apply_gradients(zip(grads, model.trainable_variables))\n",
    "            r_loss += out['loss']\n",
    "            r_acc += out['accuracy']\n",
    "            \n",
    "        epoch_loss = r_loss / epoch_size\n",
    "        epoch_acc = r_acc / epoch_size\n",
    "        print('Epoch {:d} -- Loss: {:.4f} Acc: {:.4f}'.format(epoch+1,epoch_loss, epoch_acc))\n",
    "        epoch += 1\n",
    "        lr = lr/2"
   ]
  },
  {
   "cell_type": "code",
   "execution_count": 13,
   "metadata": {},
   "outputs": [
    {
     "data": {
      "application/vnd.jupyter.widget-view+json": {
       "model_id": "cbe1a3b4189a459a9f1be16fb90e26d0",
       "version_major": 2,
       "version_minor": 0
      },
      "text/plain": [
       "HBox(children=(HTML(value='Epoch 1 train'), FloatProgress(value=0.0, max=2000.0), HTML(value='')))"
      ]
     },
     "metadata": {},
     "output_type": "display_data"
    },
    {
     "name": "stdout",
     "output_type": "stream",
     "text": [
      "\n",
      "Epoch 1 -- Loss: 0.3309 Acc: 0.9114\n"
     ]
    },
    {
     "data": {
      "application/vnd.jupyter.widget-view+json": {
       "model_id": "223c723965cd4a08a8d6efafc187648e",
       "version_major": 2,
       "version_minor": 0
      },
      "text/plain": [
       "HBox(children=(HTML(value='Epoch 2 train'), FloatProgress(value=0.0, max=2000.0), HTML(value='')))"
      ]
     },
     "metadata": {},
     "output_type": "display_data"
    },
    {
     "name": "stdout",
     "output_type": "stream",
     "text": [
      "\n",
      "Epoch 2 -- Loss: 0.1554 Acc: 0.9464\n"
     ]
    },
    {
     "data": {
      "application/vnd.jupyter.widget-view+json": {
       "model_id": "3475d2ea3453464e9cc0c46d69f44b40",
       "version_major": 2,
       "version_minor": 0
      },
      "text/plain": [
       "HBox(children=(HTML(value='Epoch 3 train'), FloatProgress(value=0.0, max=2000.0), HTML(value='')))"
      ]
     },
     "metadata": {},
     "output_type": "display_data"
    },
    {
     "name": "stdout",
     "output_type": "stream",
     "text": [
      "\n",
      "Epoch 3 -- Loss: 0.1305 Acc: 0.9555\n"
     ]
    },
    {
     "data": {
      "application/vnd.jupyter.widget-view+json": {
       "model_id": "3bd7dcafa47a41e09f9072d7cab0a0eb",
       "version_major": 2,
       "version_minor": 0
      },
      "text/plain": [
       "HBox(children=(HTML(value='Epoch 4 train'), FloatProgress(value=0.0, max=2000.0), HTML(value='')))"
      ]
     },
     "metadata": {},
     "output_type": "display_data"
    },
    {
     "name": "stdout",
     "output_type": "stream",
     "text": [
      "\n",
      "Epoch 4 -- Loss: 0.1114 Acc: 0.9596\n",
      "CPU times: user 9min 47s, sys: 2min 6s, total: 11min 54s\n",
      "Wall time: 11min 51s\n"
     ]
    }
   ],
   "source": [
    "%%time\n",
    "\n",
    "model = FaceNet(3,64,64)\n",
    "checkpoint_file = 'ProtoNet'+ time.strftime(\"%d%m_%I%M\")+'.weights'\n",
    "\n",
    "n_support = 3\n",
    "n_query = 20\n",
    "\n",
    "train_x = trainx\n",
    "train_y = trainy\n",
    "\n",
    "max_epoch = 4\n",
    "epoch_size = 2000\n",
    "\n",
    "train(model, 0.001, train_x, train_y, n_support, n_query, max_epoch, epoch_size)\n",
    "\n",
    "model.save(f'model_weights/{checkpoint_file}')"
   ]
  },
  {
   "cell_type": "markdown",
   "metadata": {},
   "source": [
    "## Testing the model\n",
    "\n",
    "This is just a very brief check to see if the model is indeed working well on the test set. Do now worry about over-fitting as this model is just a sample to test on a simple dataset. "
   ]
  },
  {
   "cell_type": "code",
   "execution_count": 14,
   "metadata": {},
   "outputs": [
    {
     "data": {
      "application/vnd.jupyter.widget-view+json": {
       "model_id": "fa770c07100c4f4a991ce18aa3c01c83",
       "version_major": 2,
       "version_minor": 0
      },
      "text/plain": [
       "HBox(children=(HTML(value='Testing model'), FloatProgress(value=0.0, max=2000.0), HTML(value='')))"
      ]
     },
     "metadata": {},
     "output_type": "display_data"
    },
    {
     "name": "stdout",
     "output_type": "stream",
     "text": [
      "\n",
      "Test accuracy:  0.9578249953687191\n"
     ]
    }
   ],
   "source": [
    "acc = 0\n",
    "for _ in trange(2000,desc=\"Testing model\"):\n",
    "    \n",
    "    sample = extract_sample(testx,testy,3,20)\n",
    "    loss,output = model.forward_loss(sample)\n",
    "    acc += output['accuracy']\n",
    "    \n",
    "print(\"Test accuracy: \",acc/2000)"
   ]
  },
  {
   "cell_type": "markdown",
   "metadata": {},
   "source": [
    "The cell below shows an example. "
   ]
  },
  {
   "cell_type": "code",
   "execution_count": 16,
   "metadata": {},
   "outputs": [
    {
     "data": {
      "image/png": "[encoded data removed]",
      "text/plain": [
       "<Figure size 432x288 with 3 Axes>"
      ]
     },
     "metadata": {
      "needs_background": "light"
     },
     "output_type": "display_data"
    },
    {
     "data": {
      "image/png": "[encoded data removed]",
      "text/plain": [
       "<Figure size 432x288 with 6 Axes>"
      ]
     },
     "metadata": {
      "needs_background": "light"
     },
     "output_type": "display_data"
    },
    {
     "name": "stdout",
     "output_type": "stream",
     "text": [
      "The models inference is: [False  True False  True False  True]\n"
     ]
    }
   ],
   "source": [
    "sample = extract_sample(testx,testy,3,6)\n",
    "sample['query'] = tf.random.shuffle(sample['query'])\n",
    "display_sample(sample)\n",
    "\n",
    "y_hat = model(sample)\n",
    "print(f\"The models inference is: {(y_hat==1.)}\")\n",
    "      \n",
    "      "
   ]
  },
  {
   "cell_type": "markdown",
   "metadata": {},
   "source": [
    "## LFW dataset "
   ]
  },
  {
   "cell_type": "code",
   "execution_count": null,
   "metadata": {},
   "outputs": [],
   "source": [
    "%%time \n",
    "\n",
    "## getting training and testing datasets\n",
    "\n",
    "x,y = load_data('LFW', min_num=3)\n",
    "\n",
    "trainx,trainy,testx,testy = split_dataset(x,y,weight=0.7)\n"
   ]
  },
  {
   "cell_type": "code",
   "execution_count": null,
   "metadata": {},
   "outputs": [],
   "source": [
    "sample = extract_sample(trainx,trainy,3,3)\n",
    "\n",
    "display_sample(sample)"
   ]
  },
  {
   "cell_type": "code",
   "execution_count": null,
   "metadata": {},
   "outputs": [],
   "source": [
    "model = FaceNet(3,64,64)\n",
    "sample = extract_sample(trainx,trainy,3,5)\n",
    "\n",
    "model.forward_loss(sample)"
   ]
  },
  {
   "cell_type": "code",
   "execution_count": null,
   "metadata": {},
   "outputs": [],
   "source": [
    "\n",
    "model = FaceNet(3,64,64)\n",
    "checkpoint_file = 'ProtoNet_FLW'+ time.strftime(\"%d%m_%I%M\")+'.weights'\n",
    "\n",
    "n_support = 3\n",
    "n_query = 20\n",
    "\n",
    "train_x = trainx\n",
    "train_y = trainy\n",
    "\n",
    "max_epoch = 2\n",
    "epoch_size = 2000\n",
    "\n",
    "train(model, 0.001, train_x, train_y, n_support, n_query, max_epoch, epoch_size)\n",
    "\n",
    "model.save(f'model_weights/{checkpoint_file}')"
   ]
  },
  {
   "cell_type": "markdown",
   "metadata": {},
   "source": [
    "## YouTube faces dataset "
   ]
  },
  {
   "cell_type": "code",
   "execution_count": null,
   "metadata": {},
   "outputs": [],
   "source": [
    "import numpy as np \n",
    "import cv2\n",
    "import multiprocessing as mp\n",
    "import os\n",
    "\n",
    "def read_faces(path, label, min_num=1):\n",
    "    \n",
    "    data = np.load(path)\n",
    "    imgs = np.transpose(data['colorImages'], (3,0,1,2))\n",
    "    \n",
    "    if imgs.shape[0]<min_num:\n",
    "        return np.empty(0),np.empty(0)\n",
    "    \n",
    "    imgs = np.array([cv2.resize(img, (125,125)) for img in imgs])\n",
    "    label = np.array([label for i in range(imgs.shape[0])])\n",
    "    \n",
    "    return imgs,label\n",
    "\n",
    "def load_data(base_directory, min_num=1):\n",
    "\n",
    "    \"\"\"\n",
    "    Reads all the alphabets from the base_directory\n",
    "    Uses multithreading to decrease the reading time drastically\n",
    "    \"\"\"\n",
    "    datax = None\n",
    "    datay = None\n",
    "    pool = mp.Pool(mp.cpu_count())\n",
    "    results = [pool.apply(read_faces,\n",
    "                          args=(\n",
    "                              base_directory + '/' + file, '_'.join(file.split('_')[:-1]), min_num\n",
    "                              )) for file in os.listdir(base_directory)]\n",
    "    pool.close()\n",
    "    \n",
    "    for result in results:\n",
    "        if len(result[0])==0:\n",
    "            continue\n",
    "        elif datax is None:\n",
    "            datax = result[0]\n",
    "            datay = result[1]\n",
    "        else:\n",
    "            datax = np.vstack([datax, result[0]])\n",
    "            datay = np.concatenate([datay,result[1]])\n",
    "            \n",
    "    return datax, datay\n",
    "    "
   ]
  },
  {
   "cell_type": "code",
   "execution_count": null,
   "metadata": {},
   "outputs": [],
   "source": [
    "%%time\n",
    "\n",
    "import yt_data\n",
    "\n",
    "datax,datay = yt_data.load_data('YTF',min_num=3)"
   ]
  },
  {
   "cell_type": "code",
   "execution_count": null,
   "metadata": {},
   "outputs": [],
   "source": [
    "sample = extract_sample(datax,datay,3,6)\n",
    "display_sample(sample)"
   ]
  },
  {
   "cell_type": "code",
   "execution_count": null,
   "metadata": {},
   "outputs": [],
   "source": []
  }
 ],
 "metadata": {
  "kernelspec": {
   "display_name": "Python 3",
   "language": "python",
   "name": "python3"
  },
  "language_info": {
   "codemirror_mode": {
    "name": "ipython",
    "version": 3
   },
   "file_extension": ".py",
   "mimetype": "text/x-python",
   "name": "python",
   "nbconvert_exporter": "python",
   "pygments_lexer": "ipython3",
   "version": "3.7.3"
  }
 },
 "nbformat": 4,
 "nbformat_minor": 4
}
